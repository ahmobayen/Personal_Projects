{
 "cells": [
  {
   "cell_type": "markdown",
   "source": [
    "# Exercise 2: IBM Couersera Data Tools"
   ],
   "metadata": {
    "collapsed": false
   }
  },
  {
   "cell_type": "markdown",
   "source": [
    "## Exercise 3: Introduction to IBM Coursera Data Tools\n",
    "\n",
    "Welcome to the introduction to IBM Coursera Data Tools! This course is designed to provide you with a comprehensive overview of essential data tools and technologies that are widely used in the industry.\n",
    "\n",
    "Best of luck with your learning!"
   ],
   "metadata": {
    "collapsed": false
   }
  },
  {
   "cell_type": "markdown",
   "source": [
    "## Exercise 4: Data Science Languages\n",
    "\n",
    "1. Python\n",
    "2. R\n",
    "3. SQL\n",
    "4. Julia\n",
    "5. Scala\n",
    "6. MATLAB\n",
    "7. SAS\n",
    "8. Java\n",
    "9. C/C++\n",
    "10. Ruby"
   ],
   "metadata": {
    "collapsed": false
   }
  },
  {
   "cell_type": "markdown",
   "source": [
    "# Exercise 5: Data Science Libraries\n",
    "\n",
    "- NumPy: A fundamental library for numerical computing in Python.\n",
    "- Pandas: A powerful library for data manipulation and analysis.\n",
    "- Matplotlib: A plotting library for creating visualizations in Python.\n",
    "- Seaborn: A statistical data visualization library built on top of Matplotlib.\n",
    "- SciPy: A library for scientific and technical computing in Python.\n",
    "- Scikit-learn: A machine learning library with various algorithms and tools.\n",
    "- TensorFlow: An open-source library for machine learning and deep learning.\n",
    "- PyTorch: A flexible and dynamic deep learning library.\n",
    "- Keras: A high-level neural networks API, compatible with TensorFlow and Theano.\n",
    "- Statsmodels: A library for statistical modeling and testing in Python.\n",
    "- NLTK: A library for natural language processing (NLP) tasks.\n",
    "- SpaCy: A library for advanced NLP tasks, including named entity recognition and part-of-speech tagging.\n"
   ],
   "metadata": {
    "collapsed": false
   }
  },
  {
   "cell_type": "markdown",
   "source": [
    "# Exercise 6:\n",
    "| Tool        | Description                                                        |\n",
    "|-------------|--------------------------------------------------------------------|\n",
    "| Python      | Versatile programming language with rich libraries for data science |\n",
    "| R           | Statistical programming language with extensive statistical packages |\n",
    "| SQL         | Language for managing and querying relational databases              |\n",
    "| Jupyter     | Interactive computing environment for data analysis and coding      |\n",
    "| TensorFlow  | Open-source library for machine learning and deep learning          |\n",
    "| PyTorch     | Open-source machine learning library for Python                     |\n",
    "| scikit-learn| Machine learning library for Python                                 |\n",
    "| Spark       | Distributed computing framework for big data\n"
   ],
   "metadata": {
    "collapsed": false
   }
  },
  {
   "cell_type": "markdown",
   "source": [
    "# Exercise 7: Arithmetic Expression Examples\n",
    "\n",
    "Arithmetic expressions are mathematical equations that involve numerical values and mathematical operations. They allow us to perform calculations and evaluate mathematical relationships. Here are some examples of arithmetic expressions:\n",
    "\n",
    "1. Addition: `2 + 3` equals 5.\n",
    "2. Subtraction: `5 - 2` equals 3.\n",
    "3. Multiplication: `4 * 3` equals 12.\n",
    "4. Division: `10 / 2` equals 5.\n",
    "5. Exponentiation: `2 ** 3` equals 8 (2 raised to the power of 3).\n",
    "6. Modulo: `10 % 3` equals 1 (remainder of 10 divided by 3)."
   ],
   "metadata": {
    "collapsed": false
   }
  },
  {
   "cell_type": "markdown",
   "source": [
    "# Exercise 8"
   ],
   "metadata": {
    "collapsed": false
   }
  },
  {
   "cell_type": "code",
   "execution_count": 1,
   "metadata": {
    "collapsed": true,
    "ExecuteTime": {
     "end_time": "2023-07-07T15:24:43.959295673Z",
     "start_time": "2023-07-07T15:24:43.928193728Z"
    }
   },
   "outputs": [
    {
     "name": "stdout",
     "output_type": "stream",
     "text": [
      "Product: 24\n",
      "Sum: 7\n"
     ]
    }
   ],
   "source": [
    "# Multiplication\n",
    "num1 = 4\n",
    "num2 = 6\n",
    "product = num1 * num2\n",
    "print(\"Product:\", product)\n",
    "\n",
    "# Addition\n",
    "num3 = 5\n",
    "num4 = 2\n",
    "sum = num3 + num4\n",
    "print(\"Sum:\", sum)"
   ]
  },
  {
   "cell_type": "markdown",
   "source": [
    "# Exercise 9"
   ],
   "metadata": {
    "collapsed": false
   }
  },
  {
   "cell_type": "code",
   "execution_count": 2,
   "outputs": [
    {
     "name": "stdout",
     "output_type": "stream",
     "text": [
      "Minutes: 135\n",
      "Hours: 2.25\n"
     ]
    }
   ],
   "source": [
    "minutes = 135\n",
    "\n",
    "# Convert minutes to hours\n",
    "hours = minutes / 60\n",
    "\n",
    "print(\"Minutes:\", minutes)\n",
    "print(\"Hours:\", hours)\n"
   ],
   "metadata": {
    "collapsed": false,
    "ExecuteTime": {
     "end_time": "2023-07-07T15:24:44.042541957Z",
     "start_time": "2023-07-07T15:24:43.971549418Z"
    }
   }
  },
  {
   "cell_type": "markdown",
   "source": [
    "## Exercise 10: Objectives\n",
    "\n",
    "1. Gain a solid understanding of data science principles and methodologies.\n",
    "2. Learn various programming languages and libraries commonly used in data science, such as Python, R, and SQL.\n",
    "3. Develop proficiency in statistical analysis and modeling techniques.\n",
    "4. Acquire knowledge of data preprocessing and cleaning techniques.\n",
    "5. Master machine learning algorithms and their applications.\n",
    "6. Explore data visualization methods to effectively communicate insights.\n",
    "7. Understand how to work with big data and leverage distributed computing frameworks like Apache Spark.\n",
    "8. Familiarize yourself with natural language processing (NLP) and text mining techniques.\n",
    "9. Gain experience in working with real-world datasets and solving data-related problems.\n",
    "10. Stay updated with the latest trends and advancements in the field of data science.\n",
    "\n",
    "These objectives provide a broad overview of the key areas and skills that are important for aspiring data scientists. They serve as a guideline for learning and developing expertise in the field, enabling individuals to tackle data-driven challenges and make informed decisions based on data analysis.\n"
   ],
   "metadata": {
    "collapsed": false
   }
  },
  {
   "cell_type": "markdown",
   "source": [
    "# Exercise 11:\n",
    "**Author: Amir Mobayen**\n"
   ],
   "metadata": {
    "collapsed": false
   }
  }
 ],
 "metadata": {
  "kernelspec": {
   "display_name": "Python 3",
   "language": "python",
   "name": "python3"
  },
  "language_info": {
   "codemirror_mode": {
    "name": "ipython",
    "version": 2
   },
   "file_extension": ".py",
   "mimetype": "text/x-python",
   "name": "python",
   "nbconvert_exporter": "python",
   "pygments_lexer": "ipython2",
   "version": "2.7.6"
  }
 },
 "nbformat": 4,
 "nbformat_minor": 0
}
